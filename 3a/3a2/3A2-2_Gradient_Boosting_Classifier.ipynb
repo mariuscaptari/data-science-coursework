{
 "cells": [
  {
   "cell_type": "code",
   "execution_count": 1,
   "metadata": {},
   "outputs": [],
   "source": [
    "import pandas as pd\n",
    "import numpy as np\n",
    "\n",
    "np.random.seed(42)\n",
    "\n",
    "from sklearn.model_selection import GridSearchCV, train_test_split\n",
    "from sklearn.metrics import confusion_matrix\n",
    "from sklearn.decomposition import PCA\n",
    "\n",
    "from imblearn.pipeline import Pipeline\n",
    "from imblearn.over_sampling import SMOTE \n",
    "\n",
    "from sklearn.ensemble import GradientBoostingClassifier\n",
    "\n",
    "from xgboost.sklearn import XGBClassifier\n",
    "import xgboost as xgb\n",
    "\n",
    "xgb.set_config(verbosity=0)"
   ]
  },
  {
   "cell_type": "code",
   "execution_count": 2,
   "metadata": {},
   "outputs": [],
   "source": [
    "data = pd.read_csv('./data/raw_data/data.csv', header=None)\n",
    "labels = pd.read_csv('./data/raw_data/labels.csv', header=None)\n",
    "\n",
    "data_labelled = data[:len(labels.index)]\n",
    "data_unlabelled = data[len(labels.index):]"
   ]
  },
  {
   "cell_type": "code",
   "execution_count": 3,
   "metadata": {},
   "outputs": [],
   "source": [
    "labels = labels.rename(columns={0: 'target'})\n",
    "labels['target'] = labels['target'].map({1: False, 2: True})"
   ]
  },
  {
   "cell_type": "code",
   "execution_count": 4,
   "metadata": {},
   "outputs": [],
   "source": [
    "X = data_labelled.copy()\n",
    "y = labels.copy()\n",
    "\n",
    "X_train, X_test, y_train, y_test = train_test_split(X, y, test_size=0.2, stratify=y, random_state=42)"
   ]
  },
  {
   "cell_type": "markdown",
   "metadata": {},
   "source": [
    "## Gradient Boosting Classifier"
   ]
  },
  {
   "cell_type": "code",
   "execution_count": 5,
   "metadata": {},
   "outputs": [
    {
     "name": "stdout",
     "output_type": "stream",
     "text": [
      "Fitting 5 folds for each of 240 candidates, totalling 1200 fits\n",
      "Best parameters:\n",
      " {'model__learning_rate': 0.1, 'model__max_depth': 2, 'model__max_features': 4, 'model__min_samples_leaf': 7, 'model__min_samples_split': 2, 'model__n_estimators': 200, 'model__subsample': 0.8}\n",
      "Best score in cross-validation:\n",
      " 0.905\n",
      "Score in test dataset:\n",
      " 1.0\n",
      "Confusion marix:\n",
      " [[31  0]\n",
      " [ 0  5]]\n"
     ]
    }
   ],
   "source": [
    "gradient_boosting_pipeline = Pipeline(\n",
    "    [\n",
    "    # ('selector',SelectKBest(f_classif)),\n",
    "    # ('pca',PCA(random_state=42)),\n",
    "    ('smote',SMOTE(random_state=42)),\n",
    "    ('model',GradientBoostingClassifier(random_state=42))\n",
    "    ]\n",
    ")\n",
    "\n",
    "gradient_boosting_search = GridSearchCV(\n",
    "    estimator = gradient_boosting_pipeline,\n",
    "    param_grid = {\n",
    "        # 'selector__k':[5,10,20,50,70,100],\n",
    "        # 'pca__n_components':[6,9,19],\n",
    "        'model__learning_rate':[0.1],\n",
    "        'model__max_depth':[2,3,4,5],\n",
    "        'model__min_samples_split':[2,3,4],\n",
    "        'model__min_samples_leaf':[2,5,7,10,20],\n",
    "        'model__max_features':[3,4,5,6],\n",
    "        'model__subsample': [0.8],\n",
    "        'model__n_estimators':[200]\n",
    "    },\n",
    "    cv=5,\n",
    "    n_jobs=-1,\n",
    "    scoring='f1',\n",
    "    verbose=1\n",
    ")\n",
    "gradient_boosting_search.fit(X_train,y_train.values.ravel())\n",
    "gradient_boosting_best = gradient_boosting_search.best_estimator_\n",
    "\n",
    "print('Best parameters:\\n', gradient_boosting_search.best_params_)\n",
    "print('Best score in cross-validation:\\n', round(gradient_boosting_search.best_score_,3))\n",
    "print('Score in test dataset:\\n', round(gradient_boosting_search.score(X_test, y_test),3))\n",
    "\n",
    "y_pred = gradient_boosting_best.predict(X_test)\n",
    "print('Confusion marix:\\n', confusion_matrix(y_true=y_test, y_pred=y_pred))"
   ]
  },
  {
   "cell_type": "code",
   "execution_count": 6,
   "metadata": {},
   "outputs": [
    {
     "data": {
      "text/plain": [
       "False    161\n",
       "True      19\n",
       "dtype: int64"
      ]
     },
     "execution_count": 6,
     "metadata": {},
     "output_type": "execute_result"
    }
   ],
   "source": [
    "y_pred_validation = gradient_boosting_best.predict(data_unlabelled)\n",
    "pd.DataFrame(y_pred_validation).value_counts()"
   ]
  },
  {
   "cell_type": "markdown",
   "metadata": {},
   "source": [
    "## XGBoost"
   ]
  },
  {
   "cell_type": "code",
   "execution_count": 8,
   "metadata": {},
   "outputs": [
    {
     "name": "stdout",
     "output_type": "stream",
     "text": [
      "Fitting 5 folds for each of 72 candidates, totalling 360 fits\n",
      "Best parameters:\n",
      " {'model__eta': 0.1, 'model__max_depth': 2, 'model__max_features': 3, 'model__min_child_weight': 1, 'model__min_samples_leaf': 2, 'model__min_samples_split': 2, 'model__n_estimators': 1000, 'model__subsample': 0.8}\n",
      "Best score in cross-validation:\n",
      " 0.863\n",
      "Score in test dataset:\n",
      " 0.909\n",
      "Confusion marix:\n",
      " [[30  1]\n",
      " [ 0  5]]\n"
     ]
    }
   ],
   "source": [
    "xgboost_pipeline = Pipeline(\n",
    "    [\n",
    "    # ('selector',SelectKBest(f_classif)),\n",
    "    # ('pca',PCA(random_state=42)),\n",
    "    ('smote',SMOTE(random_state=42)),\n",
    "    ('model',xgb.XGBClassifier(seed=42, verbosity = 0, silent=True, use_label_encoder =False))\n",
    "    ]\n",
    ")\n",
    "\n",
    "xgboost_search = GridSearchCV(\n",
    "    estimator = xgboost_pipeline,\n",
    "    param_grid = {\n",
    "        'model__eta':[0.1],\n",
    "        'model__max_depth':[2,3,5],\n",
    "        'model__min_samples_split':[2,3,4],\n",
    "        'model__min_samples_leaf':[2,3],\n",
    "        'model__max_features':[3,4,5,6],\n",
    "        'model__subsample': [0.8],\n",
    "        'model__min_child_weight':[1],\n",
    "        'model__n_estimators':[1000]\n",
    "    },\n",
    "    cv=5,\n",
    "    n_jobs=-1,\n",
    "    scoring='f1',\n",
    "    verbose=1\n",
    ")\n",
    "xgboost_search.fit(X_train,y_train.values.ravel())\n",
    "xgboost_best = xgboost_search.best_estimator_\n",
    "\n",
    "print('Best parameters:\\n', xgboost_search.best_params_)\n",
    "print('Best score in cross-validation:\\n', round(xgboost_search.best_score_,3))\n",
    "print('Score in test dataset:\\n', round(xgboost_search.score(X_test, y_test),3))\n",
    "\n",
    "y_pred = xgboost_best.predict(X_test)\n",
    "print('Confusion marix:\\n', confusion_matrix(y_true=y_test, y_pred=y_pred))"
   ]
  }
 ],
 "metadata": {
  "interpreter": {
   "hash": "6e78ec37bc2882541b38fbf35ccf4cc81f8c74cc3ebbf3055180d00090407bc4"
  },
  "kernelspec": {
   "display_name": "Python 3.9.2 64-bit ('base': conda)",
   "name": "python3"
  },
  "language_info": {
   "codemirror_mode": {
    "name": "ipython",
    "version": 3
   },
   "file_extension": ".py",
   "mimetype": "text/x-python",
   "name": "python",
   "nbconvert_exporter": "python",
   "pygments_lexer": "ipython3",
   "version": "3.9.2"
  },
  "orig_nbformat": 4
 },
 "nbformat": 4,
 "nbformat_minor": 2
}
