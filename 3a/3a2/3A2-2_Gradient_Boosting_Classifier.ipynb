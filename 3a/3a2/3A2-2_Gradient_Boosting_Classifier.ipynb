{
 "cells": [
  {
   "cell_type": "code",
   "execution_count": 1,
   "metadata": {},
   "outputs": [],
   "source": [
    "import pandas as pd\n",
    "import numpy as np\n",
    "\n",
    "np.random.seed(42)\n",
    "\n",
    "from sklearn.model_selection import GridSearchCV, train_test_split\n",
    "from sklearn.metrics import confusion_matrix\n",
    "from sklearn.decomposition import PCA\n",
    "\n",
    "from imblearn.pipeline import Pipeline\n",
    "from imblearn.over_sampling import SMOTE \n",
    "\n",
    "from sklearn.ensemble import GradientBoostingClassifier\n",
    "\n",
    "import xgboost as xgb\n",
    "\n",
    "xgb.set_config(verbosity=0)"
   ]
  },
  {
   "cell_type": "code",
   "execution_count": 2,
   "metadata": {},
   "outputs": [],
   "source": [
    "data = pd.read_csv('./data/raw_data/data.csv', header=None)\n",
    "labels = pd.read_csv('./data/raw_data/labels.csv', header=None)\n",
    "\n",
    "data_labelled = data[:len(labels.index)]\n",
    "data_unlabelled = data[len(labels.index):]"
   ]
  },
  {
   "cell_type": "code",
   "execution_count": 3,
   "metadata": {},
   "outputs": [],
   "source": [
    "labels = labels.rename(columns={0: 'target'})\n",
    "labels['target'] = labels['target'].map({1: False, 2: True})"
   ]
  },
  {
   "cell_type": "code",
   "execution_count": 4,
   "metadata": {},
   "outputs": [],
   "source": [
    "X = data_labelled.copy()\n",
    "y = labels.copy()\n",
    "\n",
    "X_train, X_test, y_train, y_test = train_test_split(X, y, test_size=0.2, stratify=y, random_state=42)"
   ]
  },
  {
   "cell_type": "markdown",
   "metadata": {},
   "source": [
    "# Gradient Boosting Classifier (final model used on unlabelled datset)"
   ]
  },
  {
   "cell_type": "code",
   "execution_count": 5,
   "metadata": {},
   "outputs": [
    {
     "name": "stdout",
     "output_type": "stream",
     "text": [
      "Fitting 5 folds for each of 180 candidates, totalling 900 fits\n",
      "Best parameters:\n",
      " {'model__learning_rate': 0.05, 'model__max_depth': 2, 'model__max_features': 7, 'model__min_samples_leaf': 2, 'model__min_samples_split': 2, 'model__n_estimators': 200, 'model__subsample': 0.8}\n",
      "Best score in cross-validation:\n",
      " 0.928\n",
      "Score in test dataset:\n",
      " 1.0\n",
      "Confusion marix:\n",
      " [[31  0]\n",
      " [ 0  5]]\n"
     ]
    }
   ],
   "source": [
    "gradient_boosting_pipeline = Pipeline(\n",
    "    [\n",
    "    # ('selector',SelectKBest(f_classif)),\n",
    "    # ('pca',PCA(random_state=42)),\n",
    "    ('smote',SMOTE(random_state=42)),\n",
    "    ('model',GradientBoostingClassifier(random_state=42))\n",
    "    ]\n",
    ")\n",
    "\n",
    "gradient_boosting_search = GridSearchCV(\n",
    "    estimator = gradient_boosting_pipeline,\n",
    "    param_grid = {\n",
    "        # 'selector__k':[5,10,20,50,70,100],\n",
    "        # 'pca__n_components':[6,9,19],\n",
    "        'model__learning_rate':[0.05],\n",
    "        'model__max_depth':[2,3,4,5,6],\n",
    "        'model__min_samples_split':[2,3,4],\n",
    "        'model__min_samples_leaf':[2,3,4,5],\n",
    "        'model__max_features':[7],\n",
    "        'model__subsample': [0.8],\n",
    "        'model__n_estimators':[100,200,400]\n",
    "    },\n",
    "    cv=5,\n",
    "    n_jobs=-1,\n",
    "    scoring='f1',\n",
    "    verbose=1\n",
    ")\n",
    "gradient_boosting_search.fit(X,y.values.ravel())\n",
    "gradient_boosting_best = gradient_boosting_search.best_estimator_\n",
    "\n",
    "print('Best parameters:\\n', gradient_boosting_search.best_params_)\n",
    "print('Best score in cross-validation:\\n', round(gradient_boosting_search.best_score_,3))\n",
    "print('Score in test dataset:\\n', round(gradient_boosting_search.score(X_test, y_test),3))\n",
    "\n",
    "y_pred = gradient_boosting_best.predict(X_test)\n",
    "print('Confusion marix:\\n', confusion_matrix(y_true=y_test, y_pred=y_pred))"
   ]
  },
  {
   "cell_type": "markdown",
   "metadata": {},
   "source": [
    "## Predict on the unlaballed dataset"
   ]
  },
  {
   "cell_type": "code",
   "execution_count": 6,
   "metadata": {},
   "outputs": [
    {
     "name": "stdout",
     "output_type": "stream",
     "text": [
      "False    160\n",
      "True      20\n",
      "dtype: int64\n"
     ]
    }
   ],
   "source": [
    "y_pred_validation = gradient_boosting_best.predict(data_unlabelled)\n",
    "output_prediction = pd.DataFrame(y_pred_validation)\n",
    "\n",
    "print(output_prediction.value_counts())\n"
   ]
  },
  {
   "cell_type": "markdown",
   "metadata": {},
   "source": [
    "Save those predictions to a csv file"
   ]
  },
  {
   "cell_type": "code",
   "execution_count": 7,
   "metadata": {},
   "outputs": [],
   "source": [
    "output_prediction.columns\n",
    "\n",
    "output_prediction[0] = output_prediction[0].map({False: 1, True: 2})\n",
    "\n",
    "output_prediction.to_csv('Team_3_prediction.csv', header=False, index=False)"
   ]
  }
 ],
 "metadata": {
  "interpreter": {
   "hash": "6e78ec37bc2882541b38fbf35ccf4cc81f8c74cc3ebbf3055180d00090407bc4"
  },
  "kernelspec": {
   "display_name": "Python 3.9.2 64-bit ('base': conda)",
   "name": "python3"
  },
  "language_info": {
   "codemirror_mode": {
    "name": "ipython",
    "version": 3
   },
   "file_extension": ".py",
   "mimetype": "text/x-python",
   "name": "python",
   "nbconvert_exporter": "python",
   "pygments_lexer": "ipython3",
   "version": "3.9.2"
  },
  "orig_nbformat": 4
 },
 "nbformat": 4,
 "nbformat_minor": 2
}
