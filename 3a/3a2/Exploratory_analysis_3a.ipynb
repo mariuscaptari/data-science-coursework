{
 "cells": [
  {
   "cell_type": "markdown",
   "id": "varying-jacket",
   "metadata": {},
   "source": [
    "# Initial Data Analysis for 3A\n",
    "\n",
    "First, the necesary imports. \n",
    "If Matplotlib does not want to display plots, install a GUI backend such as pyqt5 (available over pip) or tkinter."
   ]
  },
  {
   "cell_type": "code",
   "execution_count": 1,
   "id": "configured-nickname",
   "metadata": {},
   "outputs": [],
   "source": [
    "import pandas as pd\n",
    "import matplotlib.pyplot as plt\n",
    "from matplotlib.patches import Patch\n",
    "from sklearn.decomposition import PCA\n",
    "import numpy as np\n",
    "from statistics import median\n",
    "from scipy.stats import f_oneway"
   ]
  },
  {
   "cell_type": "code",
   "execution_count": 2,
   "id": "alternate-picking",
   "metadata": {},
   "outputs": [],
   "source": [
    "plt.rcParams['figure.figsize'] = [10, 7] # Change the desired figure size here if it is needed"
   ]
  },
  {
   "cell_type": "markdown",
   "id": "alone-canadian",
   "metadata": {},
   "source": [
    "Replace the following paths with the paths of the data.csv and labels.csv file on your system."
   ]
  },
  {
   "cell_type": "code",
   "execution_count": 4,
   "id": "behavioral-consumption",
   "metadata": {},
   "outputs": [],
   "source": [
    "df = pd.read_csv(\"./data/data.csv\", header= None)\n",
    "labels = pd.read_csv(\"./data/labels.csv\", header=None)"
   ]
  },
  {
   "cell_type": "markdown",
   "id": "thirty-hypothesis",
   "metadata": {},
   "source": [
    "We extract the indices of the two present classes for later"
   ]
  },
  {
   "cell_type": "code",
   "execution_count": 5,
   "id": "prescribed-yield",
   "metadata": {},
   "outputs": [],
   "source": [
    "indices_class_1 = labels.index[labels[0] == 1]\n",
    "indices_class_2 = labels.index[labels[0] == 2]    "
   ]
  },
  {
   "cell_type": "markdown",
   "id": "communist-patent",
   "metadata": {},
   "source": [
    "Let's take a look at the ranges of the various features to see if they are comparable (relevant for kNN)"
   ]
  },
  {
   "cell_type": "code",
   "execution_count": 6,
   "id": "sought-therapy",
   "metadata": {},
   "outputs": [
    {
     "name": "stdout",
     "output_type": "stream",
     "text": [
      "Max range of a feature at feature 147, range: 236.18113\n",
      "Min range of a feature at feature 148, range: 0.05921000000000001\n",
      "Median range: 0.391575\n"
     ]
    }
   ],
   "source": [
    "ranges = [max(df[i]) - min(df[i]) for i in range(0, df.shape[1])]\n",
    "print(f\"Max range of a feature at feature {np.argmax(ranges)}, range: {max(ranges)}\")\n",
    "print(f\"Min range of a feature at feature {np.argmin(ranges)}, range: {min(ranges)}\")\n",
    "print(f\"Median range: {median(ranges)}\")"
   ]
  },
  {
   "cell_type": "code",
   "execution_count": 7,
   "id": "contained-temperature",
   "metadata": {},
   "outputs": [
    {
     "data": {
      "image/png": "[encoded data removed]",
      "text/plain": [
       "<Figure size 720x504 with 1 Axes>"
      ]
     },
     "metadata": {
      "needs_background": "light"
     },
     "output_type": "display_data"
    }
   ],
   "source": [
    "plt.plot(sorted(ranges, reverse=True))\n",
    "plt.xlabel(\"Features\")\n",
    "plt.ylabel(\"Range in feature\")\n",
    "plt.title(\"Feature range from largest to smallest\")\n",
    "plt.show()"
   ]
  },
  {
   "cell_type": "markdown",
   "id": "dramatic-earthquake",
   "metadata": {},
   "source": [
    "Next, we take a look at how the classes are balanced in the dataset."
   ]
  },
  {
   "cell_type": "code",
   "execution_count": 8,
   "id": "awful-seafood",
   "metadata": {},
   "outputs": [
    {
     "name": "stdout",
     "output_type": "stream",
     "text": [
      "1    156\n",
      "2     23\n",
      "Name: 0, dtype: int64\n"
     ]
    },
    {
     "data": {
      "image/png": "[encoded data removed]",
      "text/plain": [
       "<Figure size 720x504 with 1 Axes>"
      ]
     },
     "metadata": {
      "needs_background": "light"
     },
     "output_type": "display_data"
    }
   ],
   "source": [
    "balance = labels[0].value_counts()\n",
    "print(balance)\n",
    "y_pos = np.arange(2)\n",
    "plt.bar(y_pos, [balance[1], balance[2]], width=0.6)\n",
    "plt.xticks(y_pos, (\"Class 1\", \"Class 2\"))\n",
    "plt.ylabel(\"Data points\")\n",
    "plt.title(\"Number of data points for each class\")\n",
    "plt.show()"
   ]
  },
  {
   "cell_type": "markdown",
   "id": "amber-moral",
   "metadata": {},
   "source": [
    "Unfortunately, it seems the dataset is quite unbalanced."
   ]
  },
  {
   "cell_type": "markdown",
   "id": "elegant-sheep",
   "metadata": {},
   "source": [
    "## PCA"
   ]
  },
  {
   "cell_type": "markdown",
   "id": "stupid-leeds",
   "metadata": {},
   "source": [
    "Next, we'll try an exploratory PCA to see how the PCs relate to the explained variance."
   ]
  },
  {
   "cell_type": "code",
   "execution_count": null,
   "id": "invalid-danish",
   "metadata": {},
   "outputs": [],
   "source": [
    "pca = PCA(n_components=df.shape[1])\n",
    "pca.fit(df)\n",
    "cum_explained = np.cumsum(pca.explained_variance_ratio_)\n",
    "plt.plot(cum_explained)\n",
    "plt.xlabel(\"# of Principal Components included\")\n",
    "plt.ylabel(\"Cumulative variance explained\")\n",
    "plt.title(\"Cumulative variance explained by PCs\")\n",
    "plt.show()"
   ]
  },
  {
   "cell_type": "markdown",
   "id": "recorded-carnival",
   "metadata": {},
   "source": [
    "Neat, it seems like PCA works relatively well. How well?"
   ]
  },
  {
   "cell_type": "code",
   "execution_count": null,
   "id": "protected-edwards",
   "metadata": {},
   "outputs": [],
   "source": [
    "print(\"PCs needed to explain variance:\")\n",
    "print(f\">=90% of variance explained at PC: {np.argmax(cum_explained>=0.9)}\")\n",
    "print(f\">=95% of variance explained at PC: {np.argmax(cum_explained>=0.95)}\")\n",
    "print(f\">=99% of variance explained at PC: {np.argmax(cum_explained >= 0.99)}\")"
   ]
  },
  {
   "cell_type": "markdown",
   "id": "instant-appreciation",
   "metadata": {},
   "source": [
    "Lets restrict the number of dimensions to 3 for visualization"
   ]
  },
  {
   "cell_type": "code",
   "execution_count": null,
   "id": "contained-particle",
   "metadata": {},
   "outputs": [],
   "source": [
    "pca3 = PCA(n_components=3)\n",
    "pca3.fit(df)\n",
    "data_pca3 = pd.DataFrame(pca3.transform(df))\n",
    "\n",
    "print(f\"Variance explained by the first 3 PCs: {sum(pca3.explained_variance_ratio_)}\")\n",
    "\n",
    "fig = plt.figure()\n",
    "ax = fig.add_subplot(projection=\"3d\")\n",
    "\n",
    "points_class_1 = data_pca3.iloc[indices_class_1]\n",
    "points_class_2 = data_pca3.iloc[indices_class_2]\n",
    "\n",
    "ax.scatter(points_class_1[0], points_class_1[1], points_class_1[2], color='b', marker='o', label=\"Class 1\")\n",
    "ax.scatter(points_class_2[0], points_class_2[1], points_class_2[2], color='r', marker='^', label=\"Class 2\")\n",
    "\n",
    "ax.set_xlabel(\"PC 1\")\n",
    "ax.set_ylabel(\"PC 2\")\n",
    "ax.set_zlabel(\"PC 3\")\n",
    "ax.set_title(\"Labelled data projected to the first 3 PCs\")\n",
    "plt.legend()\n",
    "plt.show()"
   ]
  },
  {
   "cell_type": "markdown",
   "id": "collaborative-white",
   "metadata": {},
   "source": [
    "## ANOVA\n",
    "\n",
    "We will perform anova for each feature, and see which features differ the most between groups."
   ]
  },
  {
   "cell_type": "code",
   "execution_count": null,
   "id": "informal-quilt",
   "metadata": {},
   "outputs": [],
   "source": [
    "pvals = []\n",
    "\n",
    "dps_c1 = df.iloc[indices_class_1]\n",
    "dps_c2 = df.iloc[indices_class_2]\n",
    "\n",
    "for feature_idx in range(df.shape[1]):\n",
    "    c1_feature = dps_c1.iloc[:, feature_idx]\n",
    "    c2_feature = dps_c2.iloc[:, feature_idx]\n",
    "    \n",
    "    f = f_oneway(c1_feature, c2_feature)\n",
    "    pvals.append(f.pvalue)\n",
    "    \n",
    "\n",
    "feature_indices = list(range(df.shape[1]))\n",
    "\n",
    "sorted_pvals, sorted_feature_indices = zip(*sorted(zip(pvals, feature_indices)))"
   ]
  },
  {
   "cell_type": "markdown",
   "id": "executed-contrast",
   "metadata": {},
   "source": [
    "Lets see how many of these features return a significant difference."
   ]
  },
  {
   "cell_type": "code",
   "execution_count": null,
   "id": "disabled-teddy",
   "metadata": {},
   "outputs": [],
   "source": [
    "num_significant = sum(v < 0.05 for v in sorted_pvals)\n",
    "print(num_significant)"
   ]
  },
  {
   "cell_type": "markdown",
   "id": "satellite-rwanda",
   "metadata": {},
   "source": [
    "Quite a lot. What if we check for a lower p-value (*** level)?"
   ]
  },
  {
   "cell_type": "code",
   "execution_count": null,
   "id": "accessible-powell",
   "metadata": {},
   "outputs": [],
   "source": [
    "num_significant = sum(v < 0.001 for v in sorted_pvals)\n",
    "print(num_significant)"
   ]
  },
  {
   "cell_type": "markdown",
   "id": "saved-labor",
   "metadata": {},
   "source": [
    "Still quite a few. For visualisation, we will show the first 10 or so."
   ]
  },
  {
   "cell_type": "code",
   "execution_count": null,
   "id": "auburn-gates",
   "metadata": {},
   "outputs": [],
   "source": [
    "data_best_anova_1 = []\n",
    "data_best_anova_2 = []\n",
    "for i in range(10):\n",
    "    data_best_anova_1.append(dps_c1[feature_indices[i]])\n",
    "    data_best_anova_2.append(dps_c2[feature_indices[i]])\n",
    "\n",
    "# We change the size due to all the data\n",
    "plt.rcParams['figure.figsize'] = [17, 12]\n",
    "    \n",
    "c = \"blue\"\n",
    "plt.boxplot(data_best_anova_1, positions=list(range(1,11)), widths=0.3, patch_artist=True, \n",
    "            boxprops=dict(facecolor=c, color=c), capprops=dict(color=c),\n",
    "            whiskerprops=dict(color=c), flierprops=dict(color=c, markeredgecolor=c), medianprops=dict(color=c))\n",
    "\n",
    "c = \"red\"\n",
    "plt.boxplot(data_best_anova_2, positions=[0.5 + i for i in range(1, 11)], widths=0.3, patch_artist=True, \n",
    "            boxprops=dict(facecolor=c, color=c), capprops=dict(color=c),\n",
    "            whiskerprops=dict(color=c), flierprops=dict(color=c, markeredgecolor=c), medianprops=dict(color=c))\n",
    "\n",
    "y_pos = [0.25 + i for i in range(1, 11)]\n",
    "plt.xticks(y_pos, [f\"Feature {i}\" for i in sorted_feature_indices[:10]])\n",
    "\n",
    "plt.ylabel(\"Feature values\")\n",
    "plt.xlabel(\"From left to right, most signicant differences between class features\")\n",
    "\n",
    "#Custom legend as matplotlib does not support labelling the way I'd like\n",
    "legend_els = [Patch(facecolor='b', edgecolor='b', label='Class 1'), \n",
    "                Patch(facecolor='r', edgecolor='r',label='Class 2')]\n",
    "\n",
    "\n",
    "plt.legend(handles=legend_els, loc=\"best\")\n",
    "\n",
    "    \n",
    "plt.show()"
   ]
  },
  {
   "cell_type": "code",
   "execution_count": null,
   "id": "cathedral-retention",
   "metadata": {},
   "outputs": [],
   "source": []
  }
 ],
 "metadata": {
  "kernelspec": {
   "display_name": "Python 3",
   "language": "python",
   "name": "python3"
  },
  "language_info": {
   "codemirror_mode": {
    "name": "ipython",
    "version": 3
   },
   "file_extension": ".py",
   "mimetype": "text/x-python",
   "name": "python",
   "nbconvert_exporter": "python",
   "pygments_lexer": "ipython3",
   "version": "3.9.5"
  }
 },
 "nbformat": 4,
 "nbformat_minor": 5
}
