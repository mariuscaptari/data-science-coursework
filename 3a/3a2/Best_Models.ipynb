{
 "cells": [
  {
   "cell_type": "code",
   "execution_count": 2,
   "source": [
    "import pandas as pd\n",
    "import numpy as np\n",
    "\n",
    "np.random.seed(42)\n",
    "\n",
    "from sklearn.model_selection import GridSearchCV, train_test_split\n",
    "from sklearn.feature_selection import SelectKBest, f_classif\n",
    "from sklearn.preprocessing import StandardScaler\n",
    "from sklearn.metrics import confusion_matrix,f1_score\n",
    "\n",
    "from imblearn.pipeline import Pipeline\n",
    "from imblearn.over_sampling import SMOTE \n",
    "\n",
    "from sklearn.ensemble import GradientBoostingClassifier"
   ],
   "outputs": [],
   "metadata": {}
  },
  {
   "cell_type": "code",
   "execution_count": 3,
   "source": [
    "data = pd.read_csv('./data/raw_data/data.csv', header=None)\n",
    "labels = pd.read_csv('./data/raw_data/labels.csv', header=None)\n",
    "\n",
    "data_labelled = data[:len(labels.index)]\n",
    "data_unlabelled = data[len(labels.index):]"
   ],
   "outputs": [],
   "metadata": {}
  },
  {
   "cell_type": "code",
   "execution_count": 4,
   "source": [
    "labels = labels.rename(columns={0: 'target'})\n",
    "labels['target'] = labels['target'].map({1: False, 2: True})"
   ],
   "outputs": [],
   "metadata": {}
  },
  {
   "cell_type": "code",
   "execution_count": 5,
   "source": [
    "X = data_labelled.copy()\n",
    "y = labels.copy()\n",
    "\n",
    "X_train, X_test, y_train, y_test = train_test_split(X, y, test_size=0.2, stratify=y, random_state=42)"
   ],
   "outputs": [],
   "metadata": {}
  },
  {
   "cell_type": "code",
   "execution_count": 17,
   "source": [
    "gradient_boosting_pipeline = Pipeline(\n",
    "    [\n",
    "    # ('selector',SelectKBest(f_classif)),\n",
    "    ('smote',SMOTE(random_state=42)),\n",
    "    ('model',GradientBoostingClassifier(random_state=42))\n",
    "    ]\n",
    ")\n",
    "\n",
    "gradient_boosting_search = GridSearchCV(\n",
    "    estimator = gradient_boosting_pipeline,\n",
    "    param_grid = {\n",
    "        # 'selector__k':[5,10,20,50,70,100],\n",
    "        'model__learning_rate':[0.1],\n",
    "        'model__max_depth':[2,3,4,5],\n",
    "        'model__min_samples_split':[2,3,4],\n",
    "        'model__min_samples_leaf':[2,5,7,10,20],\n",
    "        'model__max_features':[3,4,5,6],\n",
    "        'model__subsample': [0.8],\n",
    "        'model__n_estimators':[200]\n",
    "    },\n",
    "    cv=5,\n",
    "    n_jobs=-1,\n",
    "    scoring='f1',\n",
    "    verbose=1\n",
    ")\n",
    "gradient_boosting_search.fit(X_train,y_train.values.ravel())\n",
    "gradient_boosting_best = gradient_boosting_search.best_estimator_\n",
    "\n",
    "print('Best parameters:\\n', gradient_boosting_search.best_params_)\n",
    "print('Best score in cross-validation:\\n', round(gradient_boosting_search.best_score_,3))\n",
    "print('Score in test dataset:\\n', round(gradient_boosting_search.score(X_test, y_test),3))\n",
    "\n",
    "y_pred = gradient_boosting_best.predict(X_test)\n",
    "print('Confusion marix:\\n', confusion_matrix(y_true=y_test, y_pred=y_pred))"
   ],
   "outputs": [
    {
     "output_type": "stream",
     "name": "stdout",
     "text": [
      "Fitting 5 folds for each of 240 candidates, totalling 1200 fits\n",
      "Best parameters:\n",
      " {'model__learning_rate': 0.1, 'model__max_depth': 2, 'model__max_features': 4, 'model__min_samples_leaf': 7, 'model__min_samples_split': 2, 'model__n_estimators': 200, 'model__subsample': 0.8}\n",
      "Best score in cross-validation:\n",
      " 0.905\n",
      "Score in test dataset:\n",
      " 1.0\n",
      "Confusion marix:\n",
      " [[31  0]\n",
      " [ 0  5]]\n"
     ]
    }
   ],
   "metadata": {}
  }
 ],
 "metadata": {
  "orig_nbformat": 4,
  "language_info": {
   "name": "python",
   "version": "3.9.2",
   "mimetype": "text/x-python",
   "codemirror_mode": {
    "name": "ipython",
    "version": 3
   },
   "pygments_lexer": "ipython3",
   "nbconvert_exporter": "python",
   "file_extension": ".py"
  },
  "kernelspec": {
   "name": "python3",
   "display_name": "Python 3.9.2 64-bit ('base': conda)"
  },
  "interpreter": {
   "hash": "cc5ccfa982ac0c806d028cc5c3bc1fe8554eb246e53476722f6c4c66d9ffd506"
  }
 },
 "nbformat": 4,
 "nbformat_minor": 2
}