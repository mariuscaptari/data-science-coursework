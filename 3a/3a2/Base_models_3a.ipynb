{
 "cells": [
  {
   "cell_type": "code",
   "execution_count": 1,
   "source": [
    "import pandas as pd\n",
    "import numpy as np\n",
    "from pandas_profiling import ProfileReport\n",
    "\n",
    "#from sklearn.pipeline import Pipeline\n",
    "from sklearn.model_selection import GridSearchCV\n",
    "from sklearn.feature_selection import SelectKBest\n",
    "from sklearn.feature_selection import f_classif\n",
    "\n",
    "from imblearn.pipeline import Pipeline\n",
    "from imblearn.over_sampling import SMOTE \n",
    "\n",
    "from sklearn.tree import DecisionTreeClassifier\n",
    "\n",
    "seed = np.random.seed(42)"
   ],
   "outputs": [],
   "metadata": {}
  },
  {
   "cell_type": "markdown",
   "source": [
    "### Spliting data into known and unknown labels"
   ],
   "metadata": {}
  },
  {
   "cell_type": "code",
   "execution_count": 2,
   "source": [
    "data = pd.read_csv('./data/raw_data/data.csv', header=None)\n",
    "labels = pd.read_csv('./data/raw_data/labels.csv', header=None)\n",
    "\n",
    "data_labelled = data[:len(labels.index)]\n",
    "data_unlabelled = data[len(labels.index):]\n",
    "\n",
    "data_labelled.to_csv('./data/processed_data/known_labels.csv')\n",
    "data_unlabelled.to_csv('./data/processed_data/unknown_labels.csv')"
   ],
   "outputs": [],
   "metadata": {}
  },
  {
   "cell_type": "markdown",
   "source": [
    "### Merge known labels dataframe with the respective labels"
   ],
   "metadata": {}
  },
  {
   "cell_type": "code",
   "execution_count": 3,
   "source": [
    "labels = labels.rename(columns={0: 'y'})\n",
    "df = pd.concat([data_labelled, labels], axis=1)\n",
    "\n",
    "df['y'] = df['y'].map({1: False, 2: True})\n",
    "\n",
    "df.to_csv('./data/processed_data/data_with_labels.csv')"
   ],
   "outputs": [],
   "metadata": {}
  },
  {
   "cell_type": "markdown",
   "source": [
    "### Class ratio and null values"
   ],
   "metadata": {}
  },
  {
   "cell_type": "code",
   "execution_count": 4,
   "source": [
    "print('Class ratio:\\n', labels['y'].value_counts())\n",
    "print('Columns with null values:\\n', df.columns[df.isna().any()].tolist())"
   ],
   "outputs": [
    {
     "output_type": "stream",
     "name": "stdout",
     "text": [
      "Class ratio:\n",
      " 1    156\n",
      "2     23\n",
      "Name: y, dtype: int64\n",
      "Columns with null values:\n",
      " []\n"
     ]
    }
   ],
   "metadata": {}
  },
  {
   "cell_type": "markdown",
   "source": [
    "It seems like theres a high class imbalance however no columns have null values"
   ],
   "metadata": {}
  },
  {
   "cell_type": "markdown",
   "source": [
    "### Create a vizualization html page for our dataset"
   ],
   "metadata": {}
  },
  {
   "cell_type": "code",
   "execution_count": 5,
   "source": [
    "profile = ProfileReport(df, minimal=True)\n",
    "profile.to_file(\"visualization/output.html\")"
   ],
   "outputs": [
    {
     "output_type": "stream",
     "name": "stderr",
     "text": [
      "Summarize dataset: 100%|█████████▉| 34793/34796 [1:17:27<00:01,  2.87it/s, Detecting duplicates]/Users/marius/miniforge3/lib/python3.9/site-packages/pandas/core/series.py:1442: PerformanceWarning: DataFrame is highly fragmented.  This is usually the result of calling `frame.insert` many times, which has poor performance.  Consider joining all columns at once using pd.concat(axis=1) instead.  To get a de-fragmented frame, use `newframe = frame.copy()`\n",
      "  return df.reset_index(level=level, drop=drop)\n",
      "Summarize dataset: 100%|██████████| 34796/34796 [1:17:27<00:00,  7.49it/s, Completed]\n",
      "Generate report structure: 100%|██████████| 1/1 [00:28<00:00, 28.32s/it]\n",
      "Render HTML: 100%|██████████| 1/1 [03:37<00:00, 217.89s/it]\n",
      "Export report to file: 100%|██████████| 1/1 [00:01<00:00,  1.39s/it]\n"
     ]
    }
   ],
   "metadata": {}
  },
  {
   "cell_type": "markdown",
   "source": [
    "## Decision Trees"
   ],
   "metadata": {}
  },
  {
   "cell_type": "markdown",
   "source": [
    "Build a pipeline with the ANOVA feature selector > SMOTE > Decision Tree Classifier"
   ],
   "metadata": {}
  },
  {
   "cell_type": "code",
   "execution_count": 6,
   "source": [
    "pipeline = Pipeline(\n",
    "    [\n",
    "     ('selector',SelectKBest(f_classif)),\n",
    "     ('smote',SMOTE(random_state=seed)),\n",
    "     ('model',DecisionTreeClassifier(random_state=seed))\n",
    "    ]\n",
    ")"
   ],
   "outputs": [],
   "metadata": {}
  },
  {
   "cell_type": "markdown",
   "source": [
    "### Grid Search"
   ],
   "metadata": {}
  },
  {
   "cell_type": "code",
   "execution_count": 7,
   "source": [
    "search = GridSearchCV(\n",
    "    estimator = pipeline,\n",
    "    param_grid = {'selector__k':range(3,30),\n",
    "    'model__criterion':['gini','entropy'],\n",
    "    'model__max_depth':range(1,20),\n",
    "    'model__min_samples_split':range(2,10),\n",
    "    'model__min_samples_leaf':range(1,10),\n",
    "    'model__max_features':['auto', 'sqrt', 'log2', None],\n",
    "    },\n",
    "    n_jobs=-1,\n",
    "    scoring='f1',\n",
    "    cv=5,\n",
    "    verbose=1\n",
    ")"
   ],
   "outputs": [],
   "metadata": {}
  },
  {
   "cell_type": "markdown",
   "source": [
    "### Check results "
   ],
   "metadata": {}
  },
  {
   "cell_type": "code",
   "execution_count": 8,
   "source": [
    "search.fit(data_labelled,labels.values.ravel())\n",
    "\n",
    "#y_pred = search.best_estimator_.predict(data_labelled)\n",
    "\n",
    "print('Best parameters:\\n', search.best_params_)\n",
    "print('Best score f1:\\n',search.best_score_)"
   ],
   "outputs": [
    {
     "output_type": "stream",
     "name": "stdout",
     "text": [
      "Fitting 5 folds for each of 295488 candidates, totalling 1477440 fits\n",
      "Best parameters:\n",
      " {'model__criterion': 'gini', 'model__max_depth': 18, 'model__max_features': 'log2', 'model__min_samples_leaf': 1, 'model__min_samples_split': 5, 'selector__k': 15}\n",
      "Best score f1:\n",
      " 0.9906730769230769\n"
     ]
    }
   ],
   "metadata": {}
  }
 ],
 "metadata": {
  "orig_nbformat": 4,
  "language_info": {
   "name": "python",
   "version": "3.9.2",
   "mimetype": "text/x-python",
   "codemirror_mode": {
    "name": "ipython",
    "version": 3
   },
   "pygments_lexer": "ipython3",
   "nbconvert_exporter": "python",
   "file_extension": ".py"
  },
  "kernelspec": {
   "name": "python3",
   "display_name": "Python 3.9.2 64-bit ('base': conda)"
  },
  "interpreter": {
   "hash": "cc5ccfa982ac0c806d028cc5c3bc1fe8554eb246e53476722f6c4c66d9ffd506"
  }
 },
 "nbformat": 4,
 "nbformat_minor": 2
}