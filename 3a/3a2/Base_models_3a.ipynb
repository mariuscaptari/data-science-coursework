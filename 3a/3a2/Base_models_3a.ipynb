{
 "cells": [
  {
   "cell_type": "code",
   "execution_count": 111,
   "source": [
    "import pandas as pd\n",
    "import numpy as np\n",
    "from pandas_profiling import ProfileReport\n",
    "\n",
    "#from sklearn.pipeline import Pipeline\n",
    "from sklearn.model_selection import GridSearchCV\n",
    "from sklearn.feature_selection import SelectKBest\n",
    "from sklearn.feature_selection import f_classif\n",
    "from sklearn.preprocessing import StandardScaler\n",
    "from sklearn.model_selection import KFold\n",
    "\n",
    "from imblearn.pipeline import Pipeline\n",
    "from imblearn.over_sampling import SMOTE \n",
    "\n",
    "from sklearn.tree import DecisionTreeClassifier\n",
    "from sklearn.neighbors import KNeighborsClassifier\n",
    "\n",
    "np.random.seed(42)\n",
    "\n",
    "import random\n",
    "random.seed(42)"
   ],
   "outputs": [],
   "metadata": {}
  },
  {
   "cell_type": "markdown",
   "source": [
    "### Spliting data into known and unknown labels"
   ],
   "metadata": {}
  },
  {
   "cell_type": "code",
   "execution_count": 94,
   "source": [
    "data = pd.read_csv('./data/raw_data/data.csv', header=None)\n",
    "labels = pd.read_csv('./data/raw_data/labels.csv', header=None)\n",
    "\n",
    "data_labelled = data[:len(labels.index)]\n",
    "data_unlabelled = data[len(labels.index):]\n",
    "\n",
    "data_labelled.to_csv('./data/processed_data/known_labels.csv')\n",
    "data_unlabelled.to_csv('./data/processed_data/unknown_labels.csv')"
   ],
   "outputs": [],
   "metadata": {}
  },
  {
   "cell_type": "markdown",
   "source": [
    "### Merge known labels dataframe with the respective labels"
   ],
   "metadata": {}
  },
  {
   "cell_type": "code",
   "execution_count": 95,
   "source": [
    "labels = labels.rename(columns={0: 'y'})\n",
    "df = pd.concat([data_labelled, labels], axis=1)\n",
    "\n",
    "df['y'] = df['y'].map({1: False, 2: True})\n",
    "\n",
    "df.to_csv('./data/processed_data/data_with_labels.csv')"
   ],
   "outputs": [],
   "metadata": {}
  },
  {
   "cell_type": "markdown",
   "source": [
    "### Class ratio and null values"
   ],
   "metadata": {}
  },
  {
   "cell_type": "code",
   "execution_count": 96,
   "source": [
    "print('Class ratio:\\n', labels['y'].value_counts())\n",
    "print('Columns with null values:\\n', df.columns[df.isna().any()].tolist())"
   ],
   "outputs": [
    {
     "output_type": "stream",
     "name": "stdout",
     "text": [
      "Class ratio:\n",
      " 1    156\n",
      "2     23\n",
      "Name: y, dtype: int64\n",
      "Columns with null values:\n",
      " []\n"
     ]
    }
   ],
   "metadata": {}
  },
  {
   "cell_type": "markdown",
   "source": [
    "It seems like theres a high class imbalance however no columns have null values"
   ],
   "metadata": {}
  },
  {
   "cell_type": "markdown",
   "source": [
    "### Create a vizualization html page for our dataset"
   ],
   "metadata": {}
  },
  {
   "cell_type": "code",
   "execution_count": 5,
   "source": [
    "profile = ProfileReport(df, minimal=True)\n",
    "profile.to_file(\"visualization/output.html\")"
   ],
   "outputs": [
    {
     "output_type": "stream",
     "name": "stderr",
     "text": [
      "Summarize dataset: 100%|██████████| 193/193 [00:00<00:00, 538.00it/s, Completed]\n",
      "Generate report structure: 100%|██████████| 1/1 [00:22<00:00, 22.62s/it]\n",
      "Render HTML: 100%|██████████| 1/1 [00:02<00:00,  2.08s/it]\n",
      "Export report to file: 100%|██████████| 1/1 [00:00<00:00, 179.11it/s]\n"
     ]
    }
   ],
   "metadata": {}
  },
  {
   "cell_type": "markdown",
   "source": [
    "## Decision Trees"
   ],
   "metadata": {}
  },
  {
   "cell_type": "markdown",
   "source": [
    "From our exploratory analysis it seems like ANOVA and Relief work the best. Lets start with using ANOVA classification to get the top features and apply SMOTE to try and combat the class imbalance."
   ],
   "metadata": {}
  },
  {
   "cell_type": "markdown",
   "source": [
    "Build a pipeline with the ANOVA feature selector > SMOTE > Decision Tree Classifier"
   ],
   "metadata": {}
  },
  {
   "cell_type": "code",
   "execution_count": 98,
   "source": [
    "tree_pipeline = Pipeline(\n",
    "    [\n",
    "     ('selector',SelectKBest(f_classif)),\n",
    "     ('smote',SMOTE()),\n",
    "     ('model',DecisionTreeClassifier())\n",
    "    ]\n",
    ")"
   ],
   "outputs": [],
   "metadata": {}
  },
  {
   "cell_type": "markdown",
   "source": [
    "### Grid Search"
   ],
   "metadata": {}
  },
  {
   "cell_type": "markdown",
   "source": [
    "Define the parameters that we'll want to test during our 5 fold cross validation. Lets use F1 score for measuring the performance of our model given the class imbalance."
   ],
   "metadata": {}
  },
  {
   "cell_type": "code",
   "execution_count": 99,
   "source": [
    "tree_search = GridSearchCV(\n",
    "    estimator = tree_pipeline,\n",
    "    param_grid = {'selector__k':[5,10,15,20,30,40,50],\n",
    "    'model__criterion':['gini','entropy'],\n",
    "    'model__max_depth':range(1,20),\n",
    "    },\n",
    "    cv=5,\n",
    "    n_jobs=-1,\n",
    "    scoring='f1',\n",
    "    verbose=1\n",
    ")"
   ],
   "outputs": [],
   "metadata": {}
  },
  {
   "cell_type": "markdown",
   "source": [
    "Restricting max_depth should help with preventing overfitting along with a 5 fold cross validation"
   ],
   "metadata": {}
  },
  {
   "cell_type": "markdown",
   "source": [
    "### Results"
   ],
   "metadata": {}
  },
  {
   "cell_type": "code",
   "execution_count": 103,
   "source": [
    "tree_search.fit(data_labelled,labels.values.ravel())\n",
    "\n",
    "#y_pred = search.best_estimator_.predict(data_labelled)\n",
    "\n",
    "print('Best parameters:\\n', tree_search.best_params_)\n",
    "print('Best score f1:\\n',tree_search.best_score_)"
   ],
   "outputs": [
    {
     "output_type": "stream",
     "name": "stdout",
     "text": [
      "Fitting 5 folds for each of 266 candidates, totalling 1330 fits\n",
      "Best parameters:\n",
      " {'model__criterion': 'gini', 'model__max_depth': 17, 'selector__k': 50}\n",
      "Best score f1:\n",
      " 0.9809475019516004\n"
     ]
    }
   ],
   "metadata": {}
  },
  {
   "cell_type": "markdown",
   "source": [
    "## K-Nearest Neighbors "
   ],
   "metadata": {}
  },
  {
   "cell_type": "markdown",
   "source": [
    "Given that KNN relies on majority voting based on class membership of k nearest neighbors, we should use a feature scaller as the first step on our pipeline."
   ],
   "metadata": {}
  },
  {
   "cell_type": "code",
   "execution_count": 112,
   "source": [
    "knn_pipeline = Pipeline(\n",
    "    [('scaller',StandardScaler()),\n",
    "     ('selector',SelectKBest(f_classif)),\n",
    "     ('smote',SMOTE()),\n",
    "     ('model',KNeighborsClassifier())\n",
    "    ]\n",
    ")"
   ],
   "outputs": [],
   "metadata": {}
  },
  {
   "cell_type": "code",
   "execution_count": 113,
   "source": [
    "knn_search = GridSearchCV(\n",
    "    estimator = knn_pipeline,\n",
    "    param_grid = {'selector__k':[5,10,15,20,30,40,50],\n",
    "    'model__weights':['uniform','distance'],\n",
    "    'model__n_neighbors':[1,3,5,7,9],\n",
    "    'model__metric':['euclidean','manhattan','chebyshev','minkowski']\n",
    "    },\n",
    "    cv=5,\n",
    "    n_jobs=-1,\n",
    "    scoring='f1',\n",
    "    verbose=1\n",
    ")"
   ],
   "outputs": [],
   "metadata": {}
  },
  {
   "cell_type": "code",
   "execution_count": 116,
   "source": [
    "knn_search.fit(data_labelled,labels.values.ravel())\n",
    "\n",
    "print('Best parameters:\\n', knn_search.best_params_)\n",
    "print('Best score f1:\\n',knn_search.best_score_)"
   ],
   "outputs": [
    {
     "output_type": "stream",
     "name": "stdout",
     "text": [
      "Fitting 5 folds for each of 280 candidates, totalling 1400 fits\n",
      "Best parameters:\n",
      " {'model__metric': 'chebyshev', 'model__n_neighbors': 7, 'model__weights': 'distance', 'selector__k': 40}\n",
      "Best score f1:\n",
      " 0.9968253968253968\n"
     ]
    }
   ],
   "metadata": {}
  }
 ],
 "metadata": {
  "orig_nbformat": 4,
  "language_info": {
   "name": "python",
   "version": "3.9.2",
   "mimetype": "text/x-python",
   "codemirror_mode": {
    "name": "ipython",
    "version": 3
   },
   "pygments_lexer": "ipython3",
   "nbconvert_exporter": "python",
   "file_extension": ".py"
  },
  "kernelspec": {
   "name": "python3",
   "display_name": "Python 3.9.2 64-bit ('base': conda)"
  },
  "interpreter": {
   "hash": "cc5ccfa982ac0c806d028cc5c3bc1fe8554eb246e53476722f6c4c66d9ffd506"
  }
 },
 "nbformat": 4,
 "nbformat_minor": 2
}