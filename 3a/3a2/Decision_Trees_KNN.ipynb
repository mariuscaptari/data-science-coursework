{
 "cells": [
  {
   "cell_type": "code",
   "execution_count": 1,
   "source": [
    "import pandas as pd\n",
    "import numpy as np\n",
    "from pandas_profiling import ProfileReport\n",
    "\n",
    "#from sklearn.pipeline import Pipeline\n",
    "from sklearn.model_selection import GridSearchCV\n",
    "from sklearn.feature_selection import SelectKBest\n",
    "from sklearn.feature_selection import f_classif\n",
    "from sklearn.preprocessing import StandardScaler\n",
    "from sklearn.model_selection import KFold\n",
    "\n",
    "from imblearn.pipeline import Pipeline\n",
    "from imblearn.over_sampling import SMOTE \n",
    "\n",
    "from sklearn.tree import DecisionTreeClassifier\n",
    "from sklearn.neighbors import KNeighborsClassifier\n",
    "\n",
    "np.random.seed(42)"
   ],
   "outputs": [],
   "metadata": {}
  },
  {
   "cell_type": "markdown",
   "source": [
    "### Spliting data into known and unknown labels"
   ],
   "metadata": {}
  },
  {
   "cell_type": "code",
   "execution_count": 2,
   "source": [
    "data = pd.read_csv('./data/raw_data/data.csv', header=None)\n",
    "labels = pd.read_csv('./data/raw_data/labels.csv', header=None)\n",
    "\n",
    "data_labelled = data[:len(labels.index)]\n",
    "data_unlabelled = data[len(labels.index):]\n",
    "\n",
    "data_labelled.to_csv('./data/processed_data/known_labels.csv')\n",
    "data_unlabelled.to_csv('./data/processed_data/unknown_labels.csv')"
   ],
   "outputs": [],
   "metadata": {}
  },
  {
   "cell_type": "markdown",
   "source": [
    "### Merge known labels dataframe with the respective labels"
   ],
   "metadata": {}
  },
  {
   "cell_type": "code",
   "execution_count": 3,
   "source": [
    "labels = labels.rename(columns={0: 'y'})\n",
    "df = pd.concat([data_labelled, labels], axis=1)\n",
    "\n",
    "df['y'] = df['y'].map({1: False, 2: True})\n",
    "\n",
    "df.to_csv('./data/processed_data/data_with_labels.csv')"
   ],
   "outputs": [],
   "metadata": {}
  },
  {
   "cell_type": "markdown",
   "source": [
    "### Class ratio and null values"
   ],
   "metadata": {}
  },
  {
   "cell_type": "code",
   "execution_count": 4,
   "source": [
    "print('Class ratio:\\n', labels['y'].value_counts())\n",
    "print('Columns with null values:\\n', df.columns[df.isna().any()].tolist())"
   ],
   "outputs": [
    {
     "output_type": "stream",
     "name": "stdout",
     "text": [
      "Class ratio:\n",
      " 1    156\n",
      "2     23\n",
      "Name: y, dtype: int64\n",
      "Columns with null values:\n",
      " []\n"
     ]
    }
   ],
   "metadata": {}
  },
  {
   "cell_type": "markdown",
   "source": [
    "It seems like theres a high class imbalance however no columns have null values"
   ],
   "metadata": {}
  },
  {
   "cell_type": "markdown",
   "source": [
    "### Create a vizualization html page to vizualize feature destribution"
   ],
   "metadata": {}
  },
  {
   "cell_type": "code",
   "execution_count": 5,
   "source": [
    "# profile = ProfileReport(df, minimal=True)\n",
    "# profile.to_file(\"visualization/output.html\")"
   ],
   "outputs": [],
   "metadata": {}
  },
  {
   "cell_type": "markdown",
   "source": [
    "# Decision Trees"
   ],
   "metadata": {}
  },
  {
   "cell_type": "markdown",
   "source": [
    "## Baseline Model"
   ],
   "metadata": {}
  },
  {
   "cell_type": "markdown",
   "source": [
    "Lets just try out a simple decision tree without much pre-processing to have a baseline performance metric."
   ],
   "metadata": {}
  },
  {
   "cell_type": "code",
   "execution_count": 6,
   "source": [
    "#Defining which metrics to monitor\n",
    "scoring = ['f1','accuracy','precision','recall']"
   ],
   "outputs": [],
   "metadata": {}
  },
  {
   "cell_type": "markdown",
   "source": [
    "Max depth should be one of the main parameters to tune, given that the deeper the tree is, the more likely it is to overfit and perform badly on unseen data. We'll use a **5 fold cross validation** for are all experiments."
   ],
   "metadata": {}
  },
  {
   "cell_type": "code",
   "execution_count": 7,
   "source": [
    "baseline_tree_pipeline = Pipeline([('model',DecisionTreeClassifier(random_state=42))])\n",
    "\n",
    "baseline_tree_search = GridSearchCV(\n",
    "    estimator = baseline_tree_pipeline,\n",
    "    param_grid = {\n",
    "        'model__criterion':['gini','entropy'],\n",
    "        'model__max_depth':range(1,20),\n",
    "    },\n",
    "    scoring=scoring,\n",
    "    refit='f1',\n",
    "    cv=5,\n",
    "    n_jobs=-1,\n",
    "    verbose=1\n",
    ")\n",
    "baseline_tree_search.fit(data_labelled,labels.values.ravel())\n",
    "\n",
    "print('Best parameters:\\n', baseline_tree_search.best_params_)\n",
    "print('Best f1 score:\\n',baseline_tree_search.best_score_)"
   ],
   "outputs": [
    {
     "output_type": "stream",
     "name": "stdout",
     "text": [
      "Fitting 5 folds for each of 38 candidates, totalling 190 fits\n",
      "Best parameters:\n",
      " {'model__criterion': 'gini', 'model__max_depth': 2}\n",
      "Best f1 score:\n",
      " 0.9713164068729908\n"
     ]
    }
   ],
   "metadata": {}
  },
  {
   "cell_type": "markdown",
   "source": [
    "### ANOVA + SMOTE Model"
   ],
   "metadata": {}
  },
  {
   "cell_type": "markdown",
   "source": [
    "From our exploratory analysis it seems like ANOVA and Relief work the best. Lets start with using ANOVA classification to get the top n features and apply SMOTE to try and combat the class imbalance but creating new instances of the rarest class."
   ],
   "metadata": {}
  },
  {
   "cell_type": "code",
   "execution_count": 8,
   "source": [
    "improved_tree_pipeline = Pipeline(\n",
    "    [\n",
    "     ('selector',SelectKBest(f_classif)),\n",
    "     ('smote',SMOTE(random_state=42)),\n",
    "     ('model',DecisionTreeClassifier(random_state=42))\n",
    "    ]\n",
    ")"
   ],
   "outputs": [],
   "metadata": {}
  },
  {
   "cell_type": "code",
   "execution_count": 9,
   "source": [
    "improved_tree_search = GridSearchCV(\n",
    "    estimator = improved_tree_pipeline,\n",
    "    param_grid = {\n",
    "        'selector__k':[5,10,15,20,30,40,50],\n",
    "        'model__criterion':['gini','entropy'],\n",
    "        'model__max_depth':range(1,20),\n",
    "    },\n",
    "    cv=5,\n",
    "    n_jobs=-1,\n",
    "    scoring='f1',\n",
    "    verbose=1\n",
    ")"
   ],
   "outputs": [],
   "metadata": {}
  },
  {
   "cell_type": "code",
   "execution_count": 10,
   "source": [
    "improved_tree_search.fit(data_labelled,labels.values.ravel())\n",
    "\n",
    "print('Best parameters:\\n', improved_tree_search.best_params_)\n",
    "print('Best f1 score:\\n',improved_tree_search.best_score_)"
   ],
   "outputs": [
    {
     "output_type": "stream",
     "name": "stdout",
     "text": [
      "Fitting 5 folds for each of 266 candidates, totalling 1330 fits\n",
      "Best parameters:\n",
      " {'model__criterion': 'entropy', 'model__max_depth': 5, 'selector__k': 5}\n",
      "Best f1 score:\n",
      " 0.9811492673992674\n"
     ]
    }
   ],
   "metadata": {}
  },
  {
   "cell_type": "markdown",
   "source": [
    "Seems like the decision tree performs best with a max_depth set to 5 while choosing the top 5 features from the ANOVA analysis. Limiting the depth of the tree helps with having better performance since we're running CV and it punishes trees that overfit with a higher max depth."
   ],
   "metadata": {}
  },
  {
   "cell_type": "markdown",
   "source": [
    "# K-Nearest Neighbors "
   ],
   "metadata": {}
  },
  {
   "cell_type": "markdown",
   "source": [
    "## Baseline Model"
   ],
   "metadata": {}
  },
  {
   "cell_type": "markdown",
   "source": [
    "Just as we did with Decision Trees we'll first create a baseline KNN model."
   ],
   "metadata": {}
  },
  {
   "cell_type": "code",
   "execution_count": 11,
   "source": [
    "baseline_knn_pipeline = Pipeline([('model',KNeighborsClassifier())])\n",
    "\n",
    "baseline_knn_search = GridSearchCV(\n",
    "    estimator = baseline_knn_pipeline,\n",
    "    param_grid = {\n",
    "    'model__weights':['uniform','distance'],\n",
    "    'model__n_neighbors':[1,3,5,7,9],\n",
    "    'model__metric':['euclidean','manhattan','chebyshev','minkowski']\n",
    "    },\n",
    "    cv=5,\n",
    "    n_jobs=-1,\n",
    "    scoring='f1',\n",
    "    verbose=1\n",
    ")\n",
    "\n",
    "baseline_knn_search.fit(data_labelled,labels.values.ravel())\n",
    "\n",
    "print('Best parameters:\\n', baseline_knn_search.best_params_)\n",
    "print('Best f1 score:\\n',baseline_knn_search.best_score_)"
   ],
   "outputs": [
    {
     "output_type": "stream",
     "name": "stdout",
     "text": [
      "Fitting 5 folds for each of 40 candidates, totalling 200 fits\n",
      "Best parameters:\n",
      " {'model__metric': 'euclidean', 'model__n_neighbors': 1, 'model__weights': 'uniform'}\n",
      "Best f1 score:\n",
      " 0.9595192307692308\n"
     ]
    }
   ],
   "metadata": {}
  },
  {
   "cell_type": "markdown",
   "source": [
    "We got worse results that our previous tree perhaps because KNN relies on using a distance function between features and we didn't use a feauture scaler. Let's use a feature scaller as the first step on our pipeline followed by SMOTE."
   ],
   "metadata": {}
  },
  {
   "cell_type": "code",
   "execution_count": 12,
   "source": [
    "improved_knn_pipeline = Pipeline(\n",
    "    [('scaller',StandardScaler()),\n",
    "     ('selector',SelectKBest(f_classif)),\n",
    "     ('smote',SMOTE(random_state=42)),\n",
    "     ('model',KNeighborsClassifier())\n",
    "    ]\n",
    ")"
   ],
   "outputs": [],
   "metadata": {}
  },
  {
   "cell_type": "code",
   "execution_count": 13,
   "source": [
    "improved_knn_search = GridSearchCV(\n",
    "    estimator = improved_knn_pipeline,\n",
    "    param_grid = {'selector__k':[5,10,15,20,30,40,50],\n",
    "    'model__weights':['uniform','distance'],\n",
    "    'model__n_neighbors':[1,3,5,7,9],\n",
    "    'model__metric':['euclidean','manhattan','chebyshev','minkowski']\n",
    "    },\n",
    "    cv=5,\n",
    "    n_jobs=-1,\n",
    "    scoring='f1',\n",
    "    verbose=1\n",
    ")"
   ],
   "outputs": [],
   "metadata": {}
  },
  {
   "cell_type": "code",
   "execution_count": 14,
   "source": [
    "improved_knn_search.fit(data_labelled,labels.values.ravel())\n",
    "\n",
    "print('Best parameters:\\n', improved_knn_search.best_params_)\n",
    "print('Best f1 score:\\n',improved_knn_search.best_score_)"
   ],
   "outputs": [
    {
     "output_type": "stream",
     "name": "stdout",
     "text": [
      "Fitting 5 folds for each of 280 candidates, totalling 1400 fits\n",
      "Best parameters:\n",
      " {'model__metric': 'chebyshev', 'model__n_neighbors': 7, 'model__weights': 'uniform', 'selector__k': 40}\n",
      "Best f1 score:\n",
      " 0.9937484737484737\n"
     ]
    }
   ],
   "metadata": {}
  },
  {
   "cell_type": "markdown",
   "source": [
    "Applying a standart scaller and using feature upsampling made a big difference in the performance of the model."
   ],
   "metadata": {}
  },
  {
   "cell_type": "markdown",
   "source": [
    "KNN reveals to have better performance than Decision Trees measuring by the f1 score. Interesting to note that here KNN tends to perform better with more features, given that the best results come from using the top 40 in comparison to the top 5 in the decision tree."
   ],
   "metadata": {}
  }
 ],
 "metadata": {
  "orig_nbformat": 4,
  "language_info": {
   "name": "python",
   "version": "3.9.2",
   "mimetype": "text/x-python",
   "codemirror_mode": {
    "name": "ipython",
    "version": 3
   },
   "pygments_lexer": "ipython3",
   "nbconvert_exporter": "python",
   "file_extension": ".py"
  },
  "kernelspec": {
   "name": "python3",
   "display_name": "Python 3.9.2 64-bit ('base': conda)"
  },
  "interpreter": {
   "hash": "cc5ccfa982ac0c806d028cc5c3bc1fe8554eb246e53476722f6c4c66d9ffd506"
  }
 },
 "nbformat": 4,
 "nbformat_minor": 2
}